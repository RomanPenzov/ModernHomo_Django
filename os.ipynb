{
 "cells": [
  {
   "cell_type": "markdown",
   "metadata": {},
   "source": [
    "myshop/\n",
    "├── cart/\n",
    "├── myshop/\n",
    "│   ├── __init__.py\n",
    "│   ├── settings.py\n",
    "│   ├── urls.py\n",
    "│   ├── wsgi.py\n",
    "│   ├── asgi.py\n",
    "│   └── celery.py\n",
    "├── orders/\n",
    "├── shop/\n",
    "│── manage.py\n",
    "├── venv/\n",
    "└── requirements.txt"
   ]
  },
  {
   "cell_type": "code",
   "execution_count": null,
   "metadata": {},
   "outputs": [],
   "source": [
    "import os\n",
    "\n",
    "def print_structure(rootdir):\n",
    "    for root, dirs, files in os.walk(rootdir):\n",
    "        level = root.replace(rootdir, '').count(os.sep)\n",
    "        indent = ' ' * 4 * (level)\n",
    "        print('{}{}/'.format(indent, os.path.basename(root)))\n",
    "        subindent = ' ' * 4 * (level + 1)\n",
    "        for f in files:\n",
    "            print('{}{}'.format(subindent, f))\n",
    "\n",
    "# Укажите корневой каталог вашего проекта\n",
    "root_directory = 'C:\\\\IDE\\\\Django-4-by-example\\\\myshop'\n",
    "print_structure(root_directory)"
   ]
  }
 ],
 "metadata": {
  "kernelspec": {
   "display_name": "Python 3",
   "language": "python",
   "name": "python3"
  },
  "language_info": {
   "name": "python",
   "version": "3.9.10"
  }
 },
 "nbformat": 4,
 "nbformat_minor": 2
}
